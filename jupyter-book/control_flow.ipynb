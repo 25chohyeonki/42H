{
 "cells": [
  {
   "cell_type": "markdown",
   "metadata": {},
   "source": [
    "(ch:control-flow)=\n",
    "# 제어문"
   ]
  },
  {
   "cell_type": "markdown",
   "metadata": {},
   "source": [
    "지금까지 변수 할당과 기초 자료형의 값들을 이용한 간단한 연산 정도와\n",
    "여러 개의 값을 하나로 묶어서 활용할 수 있는 리스트 자료형을 살펴보았다.\n",
    "\n",
    "앞으로 본격적으로 파이썬 프로그래밍의 진수를 배우기 전에\n",
    "지금까지 배운 것들을 이용하여 보다 복잡한 복잡한 문제를 해결하는 프로그램을 \n",
    "작성해 본다. \n",
    "이를 위해 변수 할당과 함께 제어문 세 종류의 활용법을 간단하게 살펴 본다.\n",
    "\n",
    "- `if` 조건문\n",
    "- `for` 반복문\n",
    "- `while` 반복문\n",
    "\n",
    "참고로 제어문은 코드의 실행 중에 경우에 따라 다른 명령문을 실행하도록 하는\n",
    "장치를 의미한다."
   ]
  },
  {
   "cell_type": "markdown",
   "metadata": {},
   "source": [
    "### `if` 조건문 활용"
   ]
  },
  {
   "cell_type": "markdown",
   "metadata": {},
   "source": [
    "특정 조건의 성립여부에 따라 다른 일을 실행하게 만드는 명령문을 **조건문**이라 부른다. \n",
    "조건문의 일반적은 형식은 다음과 같다.\n",
    "`if ...`와 `else`가 쓰여진 행의 끝에 콜론 `:` 이 사용되고\n",
    "그 아래에 있는 명령문들은 모두 동일한 크기만큼 들여쓰기 되었음에 주의한다.\n",
    "\n",
    "```python\n",
    "if 논리식:\n",
    "    명령문\n",
    "else:\n",
    "    명령문\n",
    "```"
   ]
  },
  {
   "cell_type": "markdown",
   "metadata": {},
   "source": [
    "예를 들어 `guess` 와 `secret` 두 변수가 가리키는 값의 등가 여부에 따라\n",
    "다른 문장을 출력하도록 하려면 아래와 같이 한다."
   ]
  },
  {
   "cell_type": "code",
   "execution_count": 69,
   "metadata": {},
   "outputs": [
    {
     "name": "stdout",
     "output_type": "stream",
     "text": [
      "틀렸습니다!\n"
     ]
    }
   ],
   "source": [
    "secret = 2\n",
    "guess = 3\n",
    "\n",
    "if guess == secret:\n",
    "    print(\"guess\")\n",
    "    print(\"맞았습니다!\")\n",
    "else:\n",
    "    print(\"틀렸습니다!\")"
   ]
  },
  {
   "cell_type": "markdown",
   "metadata": {},
   "source": [
    ":::{admonition} <kbd>Tab</kbd> 키 활용\n",
    ":class: info\n",
    "\n",
    "코딩할 때 <kbd>Tab</kbd> 키는 두 가지 기능으로 유용하게 사용된다.\n",
    "\n",
    "첫째, **들여쓰기**. 커서가 줄 맨 왼쪽에 위치했을 때 <kbd>Tab</kbd> 키를 누르면 \n",
    "보통 스페이스 네 개에 해당하는 만큼 들여쓰기가 이뤄진다.\n",
    "대부분의 편집기는 <kbd>Enter</kbd> 키를 치면 들여쓰기를 적절하게 대신 실행하지만\n",
    "사용자가 직접 <kbd>Tab</kbd> 키를 이용하여 들여쓰기 정도를 조절해야 할 필요가 있다.\n",
    "들여쓰기를 반대로 실행하려면 <kbd>Shift</kbd> + <kbd>Tab</kbd> 조합을 이용한다.\n",
    "\n",
    "둘째, **탭 완성**. 함수, 변수, 객체 등을 작성하다가 <kbd>Tab</kbd> 키를 누르면\n",
    "이름을 자동으로 완성해준다. \n",
    "대부분의 편집키는 또한 탭키를 누르면 적절한 함수, 변수, 객체를 추천하기도 한다.\n",
    "<kbd>Tab</kbd> 키는 보다 빠른 코딩을 지원하는 것 뿐만 아니라, \n",
    "코드 작성 오타 또는 오류를 줄여 준다.\n",
    ":::"
   ]
  },
  {
   "cell_type": "markdown",
   "metadata": {},
   "source": [
    "(sec:for-loop)=\n",
    "### `for` 반복문 활용"
   ]
  },
  {
   "cell_type": "markdown",
   "metadata": {},
   "source": [
    "`for` 반복문은 문자열, 리스트 등 모음 자료형의 값에 포함된 모든 항목을 대상으로\n",
    "동일한 작업을 실행하고자 할 때 활용된다.\n",
    "형식은 다음과 같다.\n",
    "`for ...`가 쓰여진 행의 끝에 콜론 `:` 이 사용되고\n",
    "그 아래에 있는 명령문은 들여쓰기 되었음에 주의한다.\n",
    "들여쓰기된 명령문이 `for` 반복문의 본문이다.\n",
    "\n",
    "```python\n",
    "for 변수 in 문자열 또는 리스트:\n",
    "    명령문\n",
    "```"
   ]
  },
  {
   "cell_type": "markdown",
   "metadata": {},
   "source": [
    "`for` 반복문이 작동하는 과정을 간단하게 정리하면 다음과 같다.\n",
    "\n",
    "- `변수`는 `문자열 또는 리스트`에 포함된 항목을\n",
    "    왼쪽에서부터 차례대로 가리킴, 즉 할당받음.\n",
    "- `변수`가 현재 가리키고 있는 항목을 대상으로 지정된 `명령문` 실행\n",
    "- 지정된 `변수`에 대해 `명령문`의 실행이 완료되면 `변수`은 다음 항목을 가리키게 됨.\n",
    "- `변수`가 더 이상 가리킬 항목이 없을 때까지 위 과정 반복"
   ]
  },
  {
   "cell_type": "markdown",
   "metadata": {},
   "source": [
    "**예제: 문자열의 각 항목 출력**"
   ]
  },
  {
   "cell_type": "markdown",
   "metadata": {},
   "source": [
    "문자자열에 포함된 문자 각각을 출력하는 코드는 다음과 같다.\n",
    "`for` 반복문이 실행되는 동안 `item` 변수가 차례대로 `'안'`, `'녕'`, `'하'`, `'세'`, `'요'` 를 가리키며,\n",
    "명령문으로 작성된 `print(item)`에 의해 각 글자가 출력된다.\n",
    "`print()` 함수가 실행될 때마다 줄바꿈이 발생함에 주의한다."
   ]
  },
  {
   "cell_type": "code",
   "execution_count": 70,
   "metadata": {},
   "outputs": [
    {
     "name": "stdout",
     "output_type": "stream",
     "text": [
      "안\n",
      "녕\n",
      "하\n",
      "세\n",
      "요\n"
     ]
    }
   ],
   "source": [
    "hello = \"안녕하세요\"\n",
    "\n",
    "for item in hello:\n",
    "    print(item)"
   ]
  },
  {
   "cell_type": "markdown",
   "metadata": {},
   "source": [
    "**예제: 리스트에 포함된 모든 항목의 합**"
   ]
  },
  {
   "cell_type": "markdown",
   "metadata": {},
   "source": [
    "1부터 10까지의 합을 계산하는 코드를 `for` 반복문과 리스트를 활용하여 구현한다.\n",
    "또한 다음과 같이 출력되도록 한다.\n",
    "\n",
    "> 1부터 10까지 정수의 합: 55"
   ]
  },
  {
   "cell_type": "markdown",
   "metadata": {},
   "source": [
    "모범답안:"
   ]
  },
  {
   "cell_type": "markdown",
   "metadata": {},
   "source": [
    "먼저 1부터 10을 항목으로 갖는 리스트를 `one2ten` 변수에 할당한다."
   ]
  },
  {
   "cell_type": "code",
   "execution_count": 71,
   "metadata": {},
   "outputs": [],
   "source": [
    "one2ten = [1, 2, 3, 4, 5, 6, 7, 8, 9, 10]"
   ]
  },
  {
   "cell_type": "markdown",
   "metadata": {},
   "source": [
    "`for` 반복문은 리스트의 0번 인덱스의 항목부터 차례대로 활용한다는 사실을 이용해서\n",
    "아래 형식으로 덧셈을 진행하는 코드를 작성한다.\n",
    "\n",
    "```\n",
    "sum = 0\n",
    "sum = 0 + 1\n",
    "sum = 0 + 1 + 2\n",
    "sum = 0 + 1 + 2 + 3\n",
    "...\n",
    "sum = 0 + 1 + 2 + 3 + ... + 10\n",
    "```\n",
    "\n",
    "위 계산에 따라 항목이 달랄질 때마다 1부터 그 항목까지의 합을 저장하는 변수 `sum`에 0을 할당한다."
   ]
  },
  {
   "cell_type": "code",
   "execution_count": 72,
   "metadata": {},
   "outputs": [],
   "source": [
    "sum = 0 "
   ]
  },
  {
   "cell_type": "markdown",
   "metadata": {},
   "source": [
    "이제 `sum` 변수가 가리키는 값을 앞서 설명한 대로 차례대로 업데이트되도록 `for` 반복문을 작성한다."
   ]
  },
  {
   "cell_type": "markdown",
   "metadata": {},
   "source": [
    "- `sum`: `one2ten`의 가장 왼쪽에 위치한 항목부터 차례대로 하나씩 더한 값 저장\n",
    "- `item`: 처음엔 1, 그 다음엔 2, 그 다음엔 3 등을 차례대로 할당받음."
   ]
  },
  {
   "cell_type": "code",
   "execution_count": 73,
   "metadata": {},
   "outputs": [
    {
     "name": "stdout",
     "output_type": "stream",
     "text": [
      "1부터 10까지 정수의 합: 55\n"
     ]
    }
   ],
   "source": [
    "for item in one2ten:\n",
    "    sum = sum + item\n",
    "    \n",
    "print(\"1부터 10까지 정수의 합:\", sum)"
   ]
  },
  {
   "cell_type": "markdown",
   "metadata": {},
   "source": [
    "**예제: 짝수 항목의 합**"
   ]
  },
  {
   "cell_type": "markdown",
   "metadata": {},
   "source": [
    "`one2ten` 리스트에 포함된 정수 중에서 홀수들만의 합을 계산하는 코드를 작성한다."
   ]
  },
  {
   "cell_type": "markdown",
   "metadata": {},
   "source": [
    "모범답안:"
   ]
  },
  {
   "cell_type": "markdown",
   "metadata": {},
   "source": [
    "이전 코드와의 차이점은 `if` 조건문을 통해 `item`이 가리키는 값이 홀수임을 먼저\n",
    "판단하고 그럴 때에만 `sum` 변수의 값을 업데이트한다는 점이다.\n",
    "\n",
    "- `item % 2 == 1`: `item`이 가리키는 값을 2로 나눴을 때 나머지가 1과 같은지 여부, 즉 `item`에 할당된 값이 홀수인지 여부 판단."
   ]
  },
  {
   "cell_type": "code",
   "execution_count": 74,
   "metadata": {},
   "outputs": [
    {
     "name": "stdout",
     "output_type": "stream",
     "text": [
      "짝수 항목의 합: 25\n"
     ]
    }
   ],
   "source": [
    "one2ten = [1, 2, 3, 4, 5, 6, 7, 8, 9, 10]\n",
    "\n",
    "sum = 0\n",
    "for item in one2ten:\n",
    "    if item % 2 == 1:\n",
    "        sum = sum + item   # 짝수인 경우에만 sum에 추가\n",
    "    \n",
    "print(\"짝수 항목의 합:\", sum)"
   ]
  },
  {
   "cell_type": "markdown",
   "metadata": {},
   "source": [
    "(sec:while-iteration-starting)=\n",
    "### `while` 반복문 활용"
   ]
  },
  {
   "cell_type": "markdown",
   "metadata": {},
   "source": [
    "`while` 반복문은 특정 조건이 만족되는 동안 동일한 작업을 반복 수행하도록 할 때\n",
    "사용하는 명령문이다.\n",
    "형식은 다음과 같다.\n",
    "`while ...`가 쓰여진 행의 끝에 콜론 `:` 이 사용되고\n",
    "그 아래에 있는 명령문은 들여쓰기 되었음에 주의한다.\n",
    "들여쓰기된 명령문이 `while` 반복문의 본문이다.\n",
    "\n",
    "```python\n",
    "while 논리식:\n",
    "    명령문\n",
    "```"
   ]
  },
  {
   "cell_type": "markdown",
   "metadata": {},
   "source": [
    "`while` 반복문이 작동하는 과정을 간단하게 정리하면 다음과 같다.\n",
    "\n",
    "- `논리식`이 참일 때 `명령문`이 한 번 실행되고 다시 `논리식`의 참/거짓 여부를 판단함.\n",
    "- `논리식`이 거짓이 될 때까지 위 과정을 반복.\n",
    "- `논리식`이 거짓이 되면 `명령문`을 `while` 반복문이 종료되고 이어지는 명령문으로 넘어감."
   ]
  },
  {
   "cell_type": "markdown",
   "metadata": {},
   "source": [
    "**예제: 모든 항목의 합**\n",
    "\n",
    "아래 코드는 `while` 반복문을 이용하여 \n",
    "정수들의 리스트에 포함된 모든 항목의 합을 계산한다.\n",
    "\n",
    "- `index`: 0으로 초기화된 후 10보다 작은 동안 `while` 반복문 실행.\n",
    "    본문의 명령문이 실행될 때마다 1씩 커짐. \n",
    "    따라서 언젠가는 10 이상이 되어 `while` 반복문의 실행이 멈춤.\n",
    "- `one2ten[index]`: `for` 반복문과는 달리 `while` 반복문은 항목을 인덱싱을 이용해서 가리켜야 함.\n",
    "    바로 이 부분에서 `for` 본복문과 다르지만 나머지 부분은 거의 유사함.\n",
    "\n",
    "- `while` 반복문이 실행되는 동안 `index` 변수가 0부터 9까지 차례대로 가리키고\n",
    "    그럴 때마다 `sum`은 해당 인덱스의 항목만큼 증가함.\n",
    "    즉, 변수 `sum`의 역할은 이전 `for` 반목문을 이용한 코드에서와 동일함."
   ]
  },
  {
   "cell_type": "code",
   "execution_count": 80,
   "metadata": {},
   "outputs": [
    {
     "name": "stdout",
     "output_type": "stream",
     "text": [
      "1부터 10까지 정수의 합: 55\n"
     ]
    }
   ],
   "source": [
    "one2ten = [1, 2, 3, 4, 5, 6, 7, 8, 9, 10]\n",
    "\n",
    "index = 0\n",
    "sum = 0                          # 항목을 차례대로 더한 값. 시작은 0부터.\n",
    "\n",
    "while index < 10:\n",
    "    sum = sum + one2ten[index] \n",
    "    index = index + 1\n",
    "    \n",
    "print(\"1부터 10까지 정수의 합:\", sum)"
   ]
  },
  {
   "cell_type": "markdown",
   "metadata": {},
   "source": [
    "**예제: 모든 짝수 항목의 합**\n",
    "\n",
    "while 반복문을 이용하여 정수 리스트에 포함된 모든 짝수 항목의 합을 계산하는 코드는 다음과 같다.\n",
    "반복문의 본문에 짝수일 때만 항목의 합에 추가하는 명령문이 사용된다.\n",
    "\n",
    "- `item = one2ten[index]`: 반드시 필요한 변수 할당은 아니지만 이어지는 명령문을 보다 간단하게 보이도록 함."
   ]
  },
  {
   "cell_type": "code",
   "execution_count": 81,
   "metadata": {},
   "outputs": [
    {
     "name": "stdout",
     "output_type": "stream",
     "text": [
      "1에서 10 사이의 짝수들의 합: 30\n"
     ]
    }
   ],
   "source": [
    "one2ten = [1, 2, 3, 4, 5, 6, 7, 8, 9, 10]\n",
    "\n",
    "index = 0\n",
    "sum = 0                     # 짝수 항목을 차례대로 더한 값. 시작은 0부터.\n",
    "\n",
    "while index < 10:\n",
    "    item = one2ten[index]  # item 변수를 선언하면 편함\n",
    "    \n",
    "    if item % 2 == 0:      # 짝수 여부 확인\n",
    "        sum = sum + item \n",
    "    \n",
    "    index = index + 1\n",
    "    \n",
    "print(\"1에서 10 사이의 짝수들의 합:\", sum)"
   ]
  },
  {
   "cell_type": "markdown",
   "metadata": {},
   "source": [
    "## 필수 예제"
   ]
  },
  {
   "cell_type": "markdown",
   "metadata": {},
   "source": [
    "참고: [(필수 예제) 프로그래밍 맛보기](https://colab.research.google.com/github/codingalzi/pybook/blob/master/examples/examples-starting.ipynb)"
   ]
  },
  {
   "cell_type": "markdown",
   "metadata": {},
   "source": [
    "## 연습문제"
   ]
  },
  {
   "cell_type": "markdown",
   "metadata": {},
   "source": [
    "참고: [(연습) 프로그래밍 시작하기](https://colab.research.google.com/github/codingalzi/pybook/blob/master/practices/practice-starting.ipynb)"
   ]
  }
 ],
 "metadata": {
  "kernelspec": {
   "display_name": "Python 3 (ipykernel)",
   "language": "python",
   "name": "python3"
  },
  "language_info": {
   "codemirror_mode": {
    "name": "ipython",
    "version": 3
   },
   "file_extension": ".py",
   "mimetype": "text/x-python",
   "name": "python",
   "nbconvert_exporter": "python",
   "pygments_lexer": "ipython3",
   "version": "3.12.2"
  },
  "vscode": {
   "interpreter": {
    "hash": "6c86b3592b6800d985c04531f2c445f0fa6967131b8dd6395a925f7622e55602"
   }
  }
 },
 "nbformat": 4,
 "nbformat_minor": 4
}

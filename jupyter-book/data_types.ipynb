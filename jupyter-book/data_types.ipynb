{
 "cells": [
  {
   "cell_type": "markdown",
   "metadata": {},
   "source": [
    "(ch:data-types)=\n",
    "# 자료형"
   ]
  },
  {
   "cell_type": "markdown",
   "metadata": {},
   "source": [
    "## 자료형"
   ]
  },
  {
   "cell_type": "markdown",
   "metadata": {},
   "source": [
    "### 값과 변수의 자료형"
   ]
  },
  {
   "cell_type": "markdown",
   "metadata": {},
   "source": [
    "파이썬에 사용되는 값과 선언된 변수는 모두 **자료형**<font size='2'>data type</font>를 갖는다.\n",
    "값 또는 변수의 자료형은 `type()` 함수를 이용하여 확인한다.\n",
    "아래 코드는 정수의 자료형이 `int`라고 확인해준다."
   ]
  },
  {
   "cell_type": "code",
   "execution_count": 28,
   "metadata": {},
   "outputs": [
    {
     "data": {
      "text/plain": [
       "int"
      ]
     },
     "execution_count": 28,
     "metadata": {},
     "output_type": "execute_result"
    }
   ],
   "source": [
    "type(6)"
   ]
  },
  {
   "cell_type": "markdown",
   "metadata": {},
   "source": [
    "선언된 변수의 자료형은 할당된 값의 자료형으로 지정된다.\n",
    "예를 들어 변수 `b`에 할당된 값이 6기에 변수 `b`의 자료형 또한 `int`로 확인된다."
   ]
  },
  {
   "cell_type": "code",
   "execution_count": 29,
   "metadata": {},
   "outputs": [
    {
     "data": {
      "text/plain": [
       "int"
      ]
     },
     "execution_count": 29,
     "metadata": {},
     "output_type": "execute_result"
    }
   ],
   "source": [
    "type(b)"
   ]
  },
  {
   "cell_type": "markdown",
   "metadata": {},
   "source": [
    "그런데 변수가 가리키는 값을 다른 값으로 대체할 수 있는데 이때 다른 자료형의 값이 사용될 수 있다.\n",
    "예를 들어 아래 코드는 변수 `b`가 가리키는 값을 `Hello, world!` 라는 영어 문장으로 지정한다.\n",
    "문장은 큰따옴표 또는 작은따옴표로 감싸짐에 주의한다."
   ]
  },
  {
   "cell_type": "code",
   "execution_count": 30,
   "metadata": {},
   "outputs": [],
   "source": [
    "b = \"Hello, world!\""
   ]
  },
  {
   "cell_type": "markdown",
   "metadata": {},
   "source": [
    "또는"
   ]
  },
  {
   "cell_type": "code",
   "execution_count": 31,
   "metadata": {},
   "outputs": [],
   "source": [
    "b = 'Hello, world!'"
   ]
  },
  {
   "cell_type": "markdown",
   "metadata": {},
   "source": [
    "변수가 가리키는 값이 달라지면 변수의 자료형 또한 변경된 값의 자료형으로 바뀐다.\n",
    "단어 또는 문장의 자료형은 `str` 이며 보통 **문자열**<font size='2'>string</font>이라 부른다."
   ]
  },
  {
   "cell_type": "code",
   "execution_count": 32,
   "metadata": {},
   "outputs": [
    {
     "data": {
      "text/plain": [
       "str"
      ]
     },
     "execution_count": 32,
     "metadata": {},
     "output_type": "execute_result"
    }
   ],
   "source": [
    "type(b)"
   ]
  },
  {
   "cell_type": "markdown",
   "metadata": {},
   "source": [
    ":::{admonition} 변수의 자료형 명시\n",
    ":class: note\n",
    "\n",
    "앞서 보았듯이 파이썬의 변수 할당 명령문은 변수에 할당되는 값의 자료형을 지정하지 않으며,\n",
    "이는 C, C++, C#, 자바 등 다른 프로그래밍 언어와의 차이점 중에 하나다.\n",
    "\n",
    "예를 들어, C 언어에서 변수 `b`를 `int` 자료형으로 선언하려면 아래와 같이 변수의 자료형을 함께 지정한다.\n",
    "\n",
    "```c\n",
    "// C 언어 코드\n",
    "int b;\n",
    "b = 6;\n",
    "```\n",
    "\n",
    "C 언어의 경우 또한 선언된 자료형과 다른 자료형값을 변수 할당에 사용할 수 없다.\n",
    "예를 들어 아래 코드의 실행은 허용되지 않는다.\n",
    "\n",
    "```c\n",
    "// C 언어 코드\n",
    "int b;\n",
    "b = 6;\n",
    "b = \"Hello, world!\";  // 허용되지 않음\n",
    "```\n",
    ":::"
   ]
  },
  {
   "cell_type": "markdown",
   "metadata": {},
   "source": [
    "### 파이썬 기초 자료형"
   ]
  },
  {
   "cell_type": "markdown",
   "metadata": {},
   "source": [
    "지금까지 살펴본 정수, 부동소수점, 문자열 세 종류의 값은\n",
    "`int`, `float`, `str`의 자료형을 갖는다.\n",
    "이에 더해 파이썬은 부울 자료형인 `bool`도 기초 자료형으로 제공한다."
   ]
  },
  {
   "cell_type": "markdown",
   "metadata": {},
   "source": [
    "**정수 자료형: `int`**"
   ]
  },
  {
   "cell_type": "markdown",
   "metadata": {},
   "source": [
    "-2, -1, 0, 1, 2 등의 정수는 `int` 자료형의 값이다.\n",
    "정수는 사칙연산, 변수 할당 등에 사용된다."
   ]
  },
  {
   "cell_type": "code",
   "execution_count": 33,
   "metadata": {},
   "outputs": [
    {
     "data": {
      "text/plain": [
       "3"
      ]
     },
     "execution_count": 33,
     "metadata": {},
     "output_type": "execute_result"
    }
   ],
   "source": [
    "1 + 2"
   ]
  },
  {
   "cell_type": "code",
   "execution_count": 34,
   "metadata": {},
   "outputs": [
    {
     "data": {
      "text/plain": [
       "int"
      ]
     },
     "execution_count": 34,
     "metadata": {},
     "output_type": "execute_result"
    }
   ],
   "source": [
    "a = 4\n",
    "type(a)"
   ]
  },
  {
   "cell_type": "code",
   "execution_count": 35,
   "metadata": {},
   "outputs": [
    {
     "data": {
      "text/plain": [
       "8"
      ]
     },
     "execution_count": 35,
     "metadata": {},
     "output_type": "execute_result"
    }
   ],
   "source": [
    "a * 2"
   ]
  },
  {
   "cell_type": "markdown",
   "metadata": {},
   "source": [
    "**부동소수점 자료형: `float`**"
   ]
  },
  {
   "cell_type": "markdown",
   "metadata": {},
   "source": [
    "**부동소수점**은 유한소수를 가리키며 `float` 자료형의 값이다.\n",
    "정수와 마찬가지로 사칙연산, 변수 할당 등에 사용된다."
   ]
  },
  {
   "cell_type": "code",
   "execution_count": 36,
   "metadata": {},
   "outputs": [
    {
     "data": {
      "text/plain": [
       "5.4"
      ]
     },
     "execution_count": 36,
     "metadata": {},
     "output_type": "execute_result"
    }
   ],
   "source": [
    "2.1 + 3.3"
   ]
  },
  {
   "cell_type": "code",
   "execution_count": 37,
   "metadata": {},
   "outputs": [
    {
     "data": {
      "text/plain": [
       "float"
      ]
     },
     "execution_count": 37,
     "metadata": {},
     "output_type": "execute_result"
    }
   ],
   "source": [
    "c = 2.1\n",
    "type(c)"
   ]
  },
  {
   "cell_type": "markdown",
   "metadata": {},
   "source": [
    "`int`와 `float`는 다른 자료형이다. \n",
    "하지만 정수를 유한소수로 간주하듯이\n",
    "필요에 따라 `int` 자료형의 값이  `float` 자료형의 값으로 취급된다.\n",
    "예를 들어 `2.3 + 3`을 계산해야 할 때 `2.3 + 3.0`을 계산한다."
   ]
  },
  {
   "cell_type": "code",
   "execution_count": 38,
   "metadata": {},
   "outputs": [
    {
     "data": {
      "text/plain": [
       "5.3"
      ]
     },
     "execution_count": 38,
     "metadata": {},
     "output_type": "execute_result"
    }
   ],
   "source": [
    "2.3 + 3"
   ]
  },
  {
   "cell_type": "markdown",
   "metadata": {},
   "source": [
    "**문자열 자료형: `str`**"
   ]
  },
  {
   "cell_type": "markdown",
   "metadata": {},
   "source": [
    "문자들을 나열한 값들을 일컫는 자료형으로 작은 따옴표 `'`  또는 큰 따옴표 `\"` 를 사용한다. "
   ]
  },
  {
   "cell_type": "code",
   "execution_count": 43,
   "metadata": {},
   "outputs": [
    {
     "name": "stdout",
     "output_type": "stream",
     "text": [
      "Hello, Python!\n"
     ]
    }
   ],
   "source": [
    "hello_python = 'Hello, Python!'\n",
    "print(hello_python)"
   ]
  },
  {
   "cell_type": "code",
   "execution_count": 44,
   "metadata": {},
   "outputs": [
    {
     "name": "stdout",
     "output_type": "stream",
     "text": [
      "파이썬 좋아!\n"
     ]
    }
   ],
   "source": [
    "like_python = \"파이썬 좋아!\"\n",
    "print(like_python)"
   ]
  },
  {
   "cell_type": "markdown",
   "metadata": {},
   "source": [
    "**부울 자료형: `bool`**"
   ]
  },
  {
   "cell_type": "markdown",
   "metadata": {},
   "source": [
    "참과 거짓을 의미하는 `True`와 `False`를 \n",
    "**부울값**<font size=\"2\">Boolean value</font>\n",
    "또는 **진릿값**이라 하며,\n",
    "부울값의 자료형은 부울 자료형인 `bool`이다."
   ]
  },
  {
   "cell_type": "code",
   "execution_count": 45,
   "metadata": {},
   "outputs": [
    {
     "data": {
      "text/plain": [
       "bool"
      ]
     },
     "execution_count": 45,
     "metadata": {},
     "output_type": "execute_result"
    }
   ],
   "source": [
    "type(True)"
   ]
  },
  {
   "cell_type": "code",
   "execution_count": 46,
   "metadata": {},
   "outputs": [
    {
     "data": {
      "text/plain": [
       "bool"
      ]
     },
     "execution_count": 46,
     "metadata": {},
     "output_type": "execute_result"
    }
   ],
   "source": [
    "d = False\n",
    "type(d)"
   ]
  },
  {
   "cell_type": "markdown",
   "metadata": {},
   "source": [
    "`True`와 `False`는 `bool` 자료형을 갖는 유일한 두 개의 값이다.\n",
    "반면에 `True`와 `False`를 표현하는 식을\n",
    "**논리식**<font size=\"2\">logical expression</font>이라 한다.\n",
    "등식, 부등식 등이 부울값을 표현하는 대표적인 논리식이다."
   ]
  },
  {
   "cell_type": "markdown",
   "metadata": {},
   "source": [
    "| 논리식 | 의미 |\n",
    "| :---: | :--- |\n",
    "| a < b | a가 가리키는 값이 b가 가리키는 값보다 작을 때 참 |\n",
    "| a <= b | a가 가리키는 값이 b가 가리키는 값보다 작거나 같을 때 참 |\n",
    "| a > b | a가 가리키는 값이 b가 가리키는 값보다 클 때 참 |\n",
    "| a >= b | a가 가리키는 값이 b가 가리키는 값보다 크거나 같을 때 참 |\n",
    "| a == b | a와 b가 동일한 값을 가리킬 때 참 |\n",
    "| a != b | a와 b가 동일하지 않은 값을 가리킬 때 참 |"
   ]
  },
  {
   "cell_type": "code",
   "execution_count": 47,
   "metadata": {},
   "outputs": [
    {
     "data": {
      "text/plain": [
       "False"
      ]
     },
     "execution_count": 47,
     "metadata": {},
     "output_type": "execute_result"
    }
   ],
   "source": [
    "3 > 4"
   ]
  },
  {
   "cell_type": "code",
   "execution_count": 48,
   "metadata": {},
   "outputs": [
    {
     "data": {
      "text/plain": [
       "True"
      ]
     },
     "execution_count": 48,
     "metadata": {},
     "output_type": "execute_result"
    }
   ],
   "source": [
    "3 >= 4 - 1"
   ]
  },
  {
   "cell_type": "code",
   "execution_count": 49,
   "metadata": {},
   "outputs": [
    {
     "data": {
      "text/plain": [
       "False"
      ]
     },
     "execution_count": 49,
     "metadata": {},
     "output_type": "execute_result"
    }
   ],
   "source": [
    "5/3 + 1.2 < 3/2"
   ]
  },
  {
   "cell_type": "code",
   "execution_count": 50,
   "metadata": {},
   "outputs": [
    {
     "data": {
      "text/plain": [
       "True"
      ]
     },
     "execution_count": 50,
     "metadata": {},
     "output_type": "execute_result"
    }
   ],
   "source": [
    "2.3 <= 2.3 + 3.0 "
   ]
  },
  {
   "cell_type": "code",
   "execution_count": 51,
   "metadata": {},
   "outputs": [
    {
     "data": {
      "text/plain": [
       "True"
      ]
     },
     "execution_count": 51,
     "metadata": {},
     "output_type": "execute_result"
    }
   ],
   "source": [
    "1 == 4/4.0"
   ]
  },
  {
   "cell_type": "markdown",
   "metadata": {},
   "source": [
    "부울값 또는 변수 할당에 활용될 수 있다.\n",
    "아래 코드는 1.0과 1이 동일하다는 사실을 `test` 변수에 할당한다."
   ]
  },
  {
   "cell_type": "code",
   "execution_count": 52,
   "metadata": {},
   "outputs": [
    {
     "name": "stdout",
     "output_type": "stream",
     "text": [
      "True\n"
     ]
    }
   ],
   "source": [
    "test = 1.0 == 1\n",
    "print(test)"
   ]
  },
  {
   "cell_type": "markdown",
   "metadata": {},
   "source": [
    ":::{admonition} `=` vs. `==`\n",
    ":class: note\n",
    "\n",
    "기호 `=` 는 변수 할당에 사용되는 기호이다.\n",
    "기호 왼편에는 변수가, 오른편에는 특정 값을 표현하는 식이 사용된다.\n",
    "예를 들어 `z = 1+3`은 변수 `z`가 1+3, 즉 4를 가리키도록 하는 명령문이다.\n",
    "\n",
    "반면에 기호 `==`는 두 개의 값이 동일한지 여부를 판단할 때 사용된다.\n",
    "예를 들어 `z == 2 * 3 - 2`은 변수 `z`가 가리키는 값과 2+3-2가  동일한 값을 가리키는지 여부를 따져서\n",
    "두 값이 동일하면 `True`, 아니면 `False`로 계산되기에 최종적으로 `True`로 계산된다.\n",
    ":::"
   ]
  },
  {
   "cell_type": "markdown",
   "metadata": {},
   "source": [
    "(sec:type_casting)=\n",
    "### 형변환"
   ]
  },
  {
   "cell_type": "markdown",
   "metadata": {},
   "source": [
    "`2.3 + 3`을 실행하면 파이썬 실행기<font size=\"2\">interpreter</font>는\n",
    "내부적으로 정수를 이용하여 동일한 값의 부동소수점을 계산하는 함수 `float()`를 이용하여\n",
    "`2.3 + 3`을 `2.3 + 3.0`으로 계산한다."
   ]
  },
  {
   "cell_type": "code",
   "execution_count": 78,
   "metadata": {},
   "outputs": [
    {
     "data": {
      "text/plain": [
       "3.0"
      ]
     },
     "execution_count": 78,
     "metadata": {},
     "output_type": "execute_result"
    }
   ],
   "source": [
    "float(3)"
   ]
  },
  {
   "cell_type": "code",
   "execution_count": 79,
   "metadata": {},
   "outputs": [
    {
     "data": {
      "text/plain": [
       "5.3"
      ]
     },
     "execution_count": 79,
     "metadata": {},
     "output_type": "execute_result"
    }
   ],
   "source": [
    "2.3 + float(3)"
   ]
  },
  {
   "cell_type": "markdown",
   "metadata": {},
   "source": [
    "이렇게 내부적으로 값을 다른 자료형의 값으로 계산하는 기능을\n",
    "**형변환**<font size=\"2\">type casting</font>이라 부른다.\n",
    "`float()` 함수 이외에 `int()`, `str()`, `bool()` 등 다양한 형변환 함수가 제공된다."
   ]
  },
  {
   "cell_type": "markdown",
   "metadata": {},
   "source": [
    "**`int()` 함수**\n",
    "\n",
    "정수 모양의 문자열, 부동소수점, 부울값을 정수로 계산한다."
   ]
  },
  {
   "cell_type": "markdown",
   "metadata": {},
   "source": [
    "- 정수 모양의 문자열 형변환"
   ]
  },
  {
   "cell_type": "code",
   "execution_count": 3,
   "metadata": {},
   "outputs": [
    {
     "data": {
      "text/plain": [
       "5"
      ]
     },
     "execution_count": 3,
     "metadata": {},
     "output_type": "execute_result"
    }
   ],
   "source": [
    "int('5')"
   ]
  },
  {
   "cell_type": "markdown",
   "metadata": {},
   "source": [
    "문자열이 정수의 모양을 갖추지 못하면 오류가 발생한다.\n",
    "\n",
    "- 오류 종류: 값오류(`ValuError`)\n",
    "- 오류 내용: `'5.1'`은 정수 모양이 아님."
   ]
  },
  {
   "cell_type": "code",
   "execution_count": 19,
   "metadata": {},
   "outputs": [
    {
     "ename": "ValueError",
     "evalue": "invalid literal for int() with base 10: '5.1'",
     "output_type": "error",
     "traceback": [
      "\u001b[0;31m---------------------------------------------------------------------------\u001b[0m",
      "\u001b[0;31mValueError\u001b[0m                                Traceback (most recent call last)",
      "Cell \u001b[0;32mIn[19], line 1\u001b[0m\n\u001b[0;32m----> 1\u001b[0m \u001b[38;5;28mint\u001b[39m(\u001b[38;5;124m'\u001b[39m\u001b[38;5;124m5.1\u001b[39m\u001b[38;5;124m'\u001b[39m)\n",
      "\u001b[0;31mValueError\u001b[0m: invalid literal for int() with base 10: '5.1'"
     ]
    }
   ],
   "source": [
    "int('5.1')"
   ]
  },
  {
   "cell_type": "markdown",
   "metadata": {},
   "source": [
    "- 부동소수점에서 정수로 형변환. 소수점 이하 버리기"
   ]
  },
  {
   "cell_type": "code",
   "execution_count": 4,
   "metadata": {},
   "outputs": [
    {
     "data": {
      "text/plain": [
       "4"
      ]
     },
     "execution_count": 4,
     "metadata": {},
     "output_type": "execute_result"
    }
   ],
   "source": [
    "int(4.8)"
   ]
  },
  {
   "cell_type": "markdown",
   "metadata": {},
   "source": [
    "- 부울값에서 정수로: `True`와 `False`는 각각 1과 0으로 취급"
   ]
  },
  {
   "cell_type": "code",
   "execution_count": 5,
   "metadata": {},
   "outputs": [
    {
     "data": {
      "text/plain": [
       "1"
      ]
     },
     "execution_count": 5,
     "metadata": {},
     "output_type": "execute_result"
    }
   ],
   "source": [
    "int(True)"
   ]
  },
  {
   "cell_type": "code",
   "execution_count": 6,
   "metadata": {},
   "outputs": [
    {
     "data": {
      "text/plain": [
       "0"
      ]
     },
     "execution_count": 6,
     "metadata": {},
     "output_type": "execute_result"
    }
   ],
   "source": [
    "int(False)"
   ]
  },
  {
   "cell_type": "markdown",
   "metadata": {},
   "source": [
    "**`float()` 함수**\n",
    "\n",
    "유한소수 모양의 문자열 또는 정수 등을 부동소수점으로 계산한다."
   ]
  },
  {
   "cell_type": "markdown",
   "metadata": {},
   "source": [
    "- 유한소수 모양의 문자열 형변환"
   ]
  },
  {
   "cell_type": "code",
   "execution_count": 9,
   "metadata": {},
   "outputs": [
    {
     "data": {
      "text/plain": [
       "7.9"
      ]
     },
     "execution_count": 9,
     "metadata": {},
     "output_type": "execute_result"
    }
   ],
   "source": [
    "float('7.9')"
   ]
  },
  {
   "cell_type": "markdown",
   "metadata": {},
   "source": [
    "- 정수 모양의 문자열 형변환"
   ]
  },
  {
   "cell_type": "code",
   "execution_count": 8,
   "metadata": {},
   "outputs": [
    {
     "data": {
      "text/plain": [
       "7.0"
      ]
     },
     "execution_count": 8,
     "metadata": {},
     "output_type": "execute_result"
    }
   ],
   "source": [
    "float('7')"
   ]
  },
  {
   "cell_type": "markdown",
   "metadata": {},
   "source": [
    "문자열이 부동소수점 또는 정수 모양을 갖추지 못하면 오류가 발생한다.\n",
    "\n",
    "- 오류 종류: 값오류(`ValuError`)\n",
    "- 오류 내용: `'5.1a'`은 부동소수점 모양이 아님."
   ]
  },
  {
   "cell_type": "code",
   "execution_count": 20,
   "metadata": {},
   "outputs": [
    {
     "ename": "ValueError",
     "evalue": "invalid literal for int() with base 10: '5.1a'",
     "output_type": "error",
     "traceback": [
      "\u001b[0;31m---------------------------------------------------------------------------\u001b[0m",
      "\u001b[0;31mValueError\u001b[0m                                Traceback (most recent call last)",
      "Cell \u001b[0;32mIn[20], line 1\u001b[0m\n\u001b[0;32m----> 1\u001b[0m \u001b[38;5;28mint\u001b[39m(\u001b[38;5;124m'\u001b[39m\u001b[38;5;124m5.1a\u001b[39m\u001b[38;5;124m'\u001b[39m)\n",
      "\u001b[0;31mValueError\u001b[0m: invalid literal for int() with base 10: '5.1a'"
     ]
    }
   ],
   "source": [
    "int('5.1a')"
   ]
  },
  {
   "cell_type": "markdown",
   "metadata": {},
   "source": [
    "- 정수에서 부동소수점으로 형변환. 소수점 추가."
   ]
  },
  {
   "cell_type": "code",
   "execution_count": 7,
   "metadata": {},
   "outputs": [
    {
     "data": {
      "text/plain": [
       "7.0"
      ]
     },
     "execution_count": 7,
     "metadata": {},
     "output_type": "execute_result"
    }
   ],
   "source": [
    "float(7)"
   ]
  },
  {
   "cell_type": "markdown",
   "metadata": {},
   "source": [
    "- 부울값에서 정수로: `True`와 `False`는 각각 1.0과 0.0으로 취급"
   ]
  },
  {
   "cell_type": "code",
   "execution_count": 21,
   "metadata": {},
   "outputs": [
    {
     "data": {
      "text/plain": [
       "1.0"
      ]
     },
     "execution_count": 21,
     "metadata": {},
     "output_type": "execute_result"
    }
   ],
   "source": [
    "float(True)"
   ]
  },
  {
   "cell_type": "code",
   "execution_count": 22,
   "metadata": {},
   "outputs": [
    {
     "data": {
      "text/plain": [
       "0.0"
      ]
     },
     "execution_count": 22,
     "metadata": {},
     "output_type": "execute_result"
    }
   ],
   "source": [
    "float(False)"
   ]
  },
  {
   "cell_type": "markdown",
   "metadata": {},
   "source": [
    "**`str()` 함수**\n",
    "\n",
    "임의의 값을 문자열로 변환한다."
   ]
  },
  {
   "cell_type": "code",
   "execution_count": 10,
   "metadata": {},
   "outputs": [
    {
     "data": {
      "text/plain": [
       "'6'"
      ]
     },
     "execution_count": 10,
     "metadata": {},
     "output_type": "execute_result"
    }
   ],
   "source": [
    "str(6)"
   ]
  },
  {
   "cell_type": "code",
   "execution_count": 11,
   "metadata": {},
   "outputs": [
    {
     "data": {
      "text/plain": [
       "'7.6'"
      ]
     },
     "execution_count": 11,
     "metadata": {},
     "output_type": "execute_result"
    }
   ],
   "source": [
    "str(7.6)"
   ]
  },
  {
   "cell_type": "code",
   "execution_count": 12,
   "metadata": {},
   "outputs": [
    {
     "data": {
      "text/plain": [
       "'False'"
      ]
     },
     "execution_count": 12,
     "metadata": {},
     "output_type": "execute_result"
    }
   ],
   "source": [
    "str(False)"
   ]
  },
  {
   "cell_type": "markdown",
   "metadata": {},
   "source": [
    "**`bool()` 함수**\n",
    "\n",
    "임의의 값을 `True` 또는 `False` 로 변환한다.\n",
    "`0`, `0.0`, `''`(빈 문자열) 등처럼 0, 비어 있는 것, 의미 없는 것등은 `False` 로\n",
    "그렇지 않으면 `True` 로 지정한다."
   ]
  },
  {
   "cell_type": "code",
   "execution_count": 13,
   "metadata": {},
   "outputs": [
    {
     "data": {
      "text/plain": [
       "False"
      ]
     },
     "execution_count": 13,
     "metadata": {},
     "output_type": "execute_result"
    }
   ],
   "source": [
    "bool(0)"
   ]
  },
  {
   "cell_type": "code",
   "execution_count": 14,
   "metadata": {},
   "outputs": [
    {
     "data": {
      "text/plain": [
       "True"
      ]
     },
     "execution_count": 14,
     "metadata": {},
     "output_type": "execute_result"
    }
   ],
   "source": [
    "bool(2)"
   ]
  },
  {
   "cell_type": "code",
   "execution_count": 15,
   "metadata": {},
   "outputs": [
    {
     "data": {
      "text/plain": [
       "False"
      ]
     },
     "execution_count": 15,
     "metadata": {},
     "output_type": "execute_result"
    }
   ],
   "source": [
    "bool(0.0)"
   ]
  },
  {
   "cell_type": "code",
   "execution_count": 16,
   "metadata": {},
   "outputs": [
    {
     "data": {
      "text/plain": [
       "True"
      ]
     },
     "execution_count": 16,
     "metadata": {},
     "output_type": "execute_result"
    }
   ],
   "source": [
    "bool(0.01)"
   ]
  },
  {
   "cell_type": "code",
   "execution_count": 17,
   "metadata": {},
   "outputs": [
    {
     "data": {
      "text/plain": [
       "False"
      ]
     },
     "execution_count": 17,
     "metadata": {},
     "output_type": "execute_result"
    }
   ],
   "source": [
    "bool('')"
   ]
  },
  {
   "cell_type": "code",
   "execution_count": 18,
   "metadata": {},
   "outputs": [
    {
     "data": {
      "text/plain": [
       "True"
      ]
     },
     "execution_count": 18,
     "metadata": {},
     "output_type": "execute_result"
    }
   ],
   "source": [
    "bool('Hello')"
   ]
  },
  {
   "cell_type": "markdown",
   "metadata": {},
   "source": [
    ":::{admonition} `float` 대 `float()`\n",
    ":class: tip\n",
    "\n",
    "`float`는 부동소수점 자료형을 가리키기도 하고 \n",
    "형변환 함수를 가리키기도 한다. \n",
    "여기서는 자료형과 형변환 함수의 이름을 구분하기 위해 \n",
    "함수는 `int()`, `float()`, `str()` 등처럼\n",
    "함수 이름과 괄호를 함께 사용하는 표기법 관행을 따른다.\n",
    ":::"
   ]
  },
  {
   "cell_type": "markdown",
   "metadata": {},
   "source": [
    "## 주석"
   ]
  },
  {
   "cell_type": "markdown",
   "metadata": {},
   "source": [
    "프로그램을 작성할 때\n",
    "포함된 코드의 기능과 작성 의도 등을 설명하는 문구나 문장을 추가하면\n",
    "프로그램의 작동 원리와 과정을 보다 쉽게 이해할 수 있다.\n",
    "이와 같이 프로그램의 실행과는 무관하지만 명령문, 함수 등의 \n",
    "기능, 아이디어 등을 설명하는 문장이\n",
    "**주석**<font size=\"2\">comment</font>이다.\n",
    "주석은 프로그램이 실행될 때 파이썬 실행기에 의해 무시된다."
   ]
  },
  {
   "cell_type": "markdown",
   "metadata": {},
   "source": [
    "**한줄 주석**\n",
    "\n",
    "주석은 한 줄 또는 여러 줄로 작성될 수 있다.\n",
    "한줄 주석은 **샵**<font size=\"2\">sharp</font> 기호 `#` 로 시작한다.\n",
    "주석 기호 이후의 실행기에 의해 무시된다."
   ]
  },
  {
   "cell_type": "code",
   "execution_count": 53,
   "metadata": {},
   "outputs": [
    {
     "name": "stdout",
     "output_type": "stream",
     "text": [
      "스피드: 90 km\n"
     ]
    }
   ],
   "source": [
    "# speed는 시속을 가리키는 변수이다.\n",
    "\n",
    "speed = 90 # 속도 단위는 km이다.\n",
    "print(\"스피드:\", speed, \"km\")"
   ]
  },
  {
   "cell_type": "markdown",
   "metadata": {},
   "source": [
    "위 코드와 아래 코드는 동일하게 작동한다."
   ]
  },
  {
   "cell_type": "code",
   "execution_count": 54,
   "metadata": {},
   "outputs": [
    {
     "name": "stdout",
     "output_type": "stream",
     "text": [
      "스피드: 90 km\n"
     ]
    }
   ],
   "source": [
    "speed = 90\n",
    "print(\"스피드:\", speed, \"km\")"
   ]
  },
  {
   "cell_type": "markdown",
   "metadata": {},
   "source": [
    "다만 코드에 사용된 변수와 코드의 의미에 대한 설명이 \n",
    "주석으로 추가된 경우가 코드의 의미를 이해하는 데에 보다 도움이 된다."
   ]
  },
  {
   "cell_type": "markdown",
   "metadata": {},
   "source": [
    "**여러 줄 주석**"
   ]
  },
  {
   "cell_type": "markdown",
   "metadata": {},
   "source": [
    "한줄 주석을 연속 사용하여 여러 줄 주석을 작성할 수 있다."
   ]
  },
  {
   "cell_type": "code",
   "execution_count": 55,
   "metadata": {},
   "outputs": [
    {
     "name": "stdout",
     "output_type": "stream",
     "text": [
      "스피드: 90 km\n"
     ]
    }
   ],
   "source": [
    "# speed는 시속을 가리키는 변수이다.\n",
    "# 속도 단위는 km이다.\n",
    "\n",
    "speed = 90 \n",
    "print(\"스피드:\", speed, \"km\")"
   ]
  },
  {
   "cell_type": "markdown",
   "metadata": {},
   "source": [
    "반면에 작은따옴표 세 개 `'''`  또는 큰따옴표 세 개 `\"\"\"` 로 감싸서\n",
    "여러 줄 주석을 작성할 수도 있다."
   ]
  },
  {
   "cell_type": "code",
   "execution_count": 56,
   "metadata": {},
   "outputs": [
    {
     "name": "stdout",
     "output_type": "stream",
     "text": [
      "스피드: 90 km\n"
     ]
    }
   ],
   "source": [
    "'''\n",
    "speed는 시속을 가리키는 변수이다.\n",
    "속도 단위는 km이다.\n",
    "'''\n",
    "\n",
    "speed = 90 \n",
    "print(\"스피드:\", speed, \"km\")"
   ]
  },
  {
   "cell_type": "markdown",
   "metadata": {},
   "source": [
    "또는"
   ]
  },
  {
   "cell_type": "code",
   "execution_count": 57,
   "metadata": {},
   "outputs": [
    {
     "name": "stdout",
     "output_type": "stream",
     "text": [
      "스피드: 90 km\n"
     ]
    }
   ],
   "source": [
    "\"\"\"\n",
    "speed는 시속을 가리키는 변수이다.\n",
    "속도 단위는 km이다.\n",
    "\"\"\"\n",
    "\n",
    "speed = 90 \n",
    "print(\"스피드:\", speed, \"km\")"
   ]
  },
  {
   "cell_type": "markdown",
   "metadata": {},
   "source": [
    "여러 줄 주석을 코드 또한 모두 아래 코드와 동일하게 작동한다."
   ]
  },
  {
   "cell_type": "code",
   "execution_count": 58,
   "metadata": {},
   "outputs": [
    {
     "name": "stdout",
     "output_type": "stream",
     "text": [
      "스피드: 90 km\n"
     ]
    }
   ],
   "source": [
    "speed = 90\n",
    "print(\"스피드:\", speed, \"km\")"
   ]
  },
  {
   "cell_type": "markdown",
   "metadata": {},
   "source": [
    "## 모음 자료형: 리스트"
   ]
  },
  {
   "cell_type": "markdown",
   "metadata": {},
   "source": [
    "파이썬은 여러 개의 값을 하나로 묶어 다룰 수 있는 자료구조를 지원한다.\n",
    "여기서는 **리스트**<font size=\"2\">list</font>를 간단히 소개한다.\n",
    "리스트는 보통 관련된 값들을 모아서 하나의 값으로 취급하는 자료형이다.\n",
    "대괄호 `[]` 로 항목들의 목록을 감싸고, 각각의 항목은 쉼표 `,` 로 구분한다. \n",
    "예를 들어, 1부터 5까지의 정수로 구성된 리스트를 가리키는 변수를 다음과 같이 선언한다."
   ]
  },
  {
   "cell_type": "code",
   "execution_count": 59,
   "metadata": {},
   "outputs": [],
   "source": [
    "one2five = [1, 2, 3, 4, 5]"
   ]
  },
  {
   "cell_type": "markdown",
   "metadata": {},
   "source": [
    "`name_list` 변수는 사람들의 이름, 즉 문자열로 구성된 리스트를 가리킨다."
   ]
  },
  {
   "cell_type": "code",
   "execution_count": 60,
   "metadata": {},
   "outputs": [],
   "source": [
    "name_list = ['김강현', '황현', '남세원', '최흥선', '김현선', '함중아']"
   ]
  },
  {
   "cell_type": "markdown",
   "metadata": {},
   "source": [
    "리스트의 항목이 반드시 동일한 자료형을 가질 필요는 없으며,\n",
    "서로 다른 자료형의 항목이 사용될 수도 있다.\n",
    "예를 들어 아래 리스트는 김강현의 이름, 전화번호, 나이, 키, 출생지로 구성된 \n",
    "리스트를 정의한다."
   ]
  },
  {
   "cell_type": "code",
   "execution_count": 61,
   "metadata": {},
   "outputs": [],
   "source": [
    "kgh = ['김강현', '010-1234-5678', 20, 172.3, '제주']"
   ]
  },
  {
   "cell_type": "markdown",
   "metadata": {},
   "source": [
    "**리스트 인덱싱**"
   ]
  },
  {
   "cell_type": "markdown",
   "metadata": {},
   "source": [
    "항목의 위치를 **인덱스**<font size='2'>index</font>로 표기한다.\n",
    "가장 왼쪽에 위치한 항목부터 차례대로 0, 1, 2, 3 등의 인덱스에 해당한다.\n",
    "인덱스를 이용하여 해당 인덱스에 위치한 항목을 확인하는 과정을\n",
    "**인덱싱**<font size='2'>indexing</font>이라 부른다."
   ]
  },
  {
   "cell_type": "markdown",
   "metadata": {},
   "source": [
    "예를 들어 가장 왼쪽에 위치한 항목, 즉 0번 인덱스의 항목을 확인하는 방법은 다음과 같다."
   ]
  },
  {
   "cell_type": "code",
   "execution_count": 62,
   "metadata": {},
   "outputs": [
    {
     "data": {
      "text/plain": [
       "'김강현'"
      ]
     },
     "execution_count": 62,
     "metadata": {},
     "output_type": "execute_result"
    }
   ],
   "source": [
    "name_list[0]"
   ]
  },
  {
   "cell_type": "markdown",
   "metadata": {},
   "source": [
    "왼쪽에서 세번째 항목은 인덱스가 2이기에 다음과 같이 확인한다."
   ]
  },
  {
   "cell_type": "code",
   "execution_count": 63,
   "metadata": {},
   "outputs": [
    {
     "data": {
      "text/plain": [
       "'남세원'"
      ]
     },
     "execution_count": 63,
     "metadata": {},
     "output_type": "execute_result"
    }
   ],
   "source": [
    "name_list[2]"
   ]
  },
  {
   "cell_type": "markdown",
   "metadata": {},
   "source": [
    "인덱스는 음의 정수로도 표현할 수 있다.\n",
    "맨 오른쪽에 위치한 항목부터 왼쪽으로 이동하면서 차례대로 -1, -2, -3 등의 음의 인덱스를 갖는다.\n",
    "따라서 가장 오른쪽에 위치한, 즉 리스트의 맨 끝에 위치한 항목은 다음과 같다."
   ]
  },
  {
   "cell_type": "code",
   "execution_count": 64,
   "metadata": {},
   "outputs": [
    {
     "data": {
      "text/plain": [
       "'함중아'"
      ]
     },
     "execution_count": 64,
     "metadata": {},
     "output_type": "execute_result"
    }
   ],
   "source": [
    "name_list[-1]"
   ]
  },
  {
   "cell_type": "markdown",
   "metadata": {},
   "source": [
    "**모음 자료형으로서의 문자열**"
   ]
  },
  {
   "cell_type": "markdown",
   "metadata": {},
   "source": [
    "파이썬에서 문자열을 여러 개의 문자 또는 기호로 구성된 값으로 간주할 수 있다.\n",
    "따라서 `str`을 일종의 모음 자료형으로 간주한다.\n",
    "더 나아가 리스트의 인덱스와 인덱싱 기능을 문자열에 대해서도 동일하게 적용할 수 있다.\n",
    "즉, 문자열 가장 왼편에 위치한 문자 또는 기호부터 오른쪽으로 이동하면서 \n",
    "차례대로 0. 1, 2 등의 인덱스를 가지며 이를 이용하여 문자열 인덱싱을 사용할 수 있다."
   ]
  },
  {
   "cell_type": "markdown",
   "metadata": {},
   "source": [
    "예를 들어 `name_list` 리스트의 첫재 항목, 즉 0번 인덱스의 값인 `김강현`을\n",
    "변수 `kgh`에 할당해보자."
   ]
  },
  {
   "cell_type": "code",
   "execution_count": 65,
   "metadata": {},
   "outputs": [],
   "source": [
    "kgh = name_list[0]"
   ]
  },
  {
   "cell_type": "markdown",
   "metadata": {},
   "source": [
    "`kgh`의 자료형은 당연히 문자열이다."
   ]
  },
  {
   "cell_type": "code",
   "execution_count": 66,
   "metadata": {},
   "outputs": [
    {
     "data": {
      "text/plain": [
       "str"
      ]
     },
     "execution_count": 66,
     "metadata": {},
     "output_type": "execute_result"
    }
   ],
   "source": [
    "type(kgh)"
   ]
  },
  {
   "cell_type": "markdown",
   "metadata": {},
   "source": [
    "김강현의 성인 김은 0번 인덱스의 항목이다."
   ]
  },
  {
   "cell_type": "code",
   "execution_count": 67,
   "metadata": {},
   "outputs": [
    {
     "data": {
      "text/plain": [
       "'김'"
      ]
     },
     "execution_count": 67,
     "metadata": {},
     "output_type": "execute_result"
    }
   ],
   "source": [
    "kgh[0]"
   ]
  },
  {
   "cell_type": "markdown",
   "metadata": {},
   "source": [
    "반면에 현은 김강현 문자열의 2번 인덱스의 항목이다."
   ]
  },
  {
   "cell_type": "code",
   "execution_count": 68,
   "metadata": {},
   "outputs": [
    {
     "data": {
      "text/plain": [
       "'현'"
      ]
     },
     "execution_count": 68,
     "metadata": {},
     "output_type": "execute_result"
    }
   ],
   "source": [
    "kgh[2]"
   ]
  },
  {
   "cell_type": "markdown",
   "metadata": {},
   "source": [
    "## 필수 예제"
   ]
  },
  {
   "cell_type": "markdown",
   "metadata": {},
   "source": [
    "참고: [(필수 예제) 프로그래밍 맛보기](https://colab.research.google.com/github/codingalzi/pybook/blob/master/examples/examples-starting.ipynb)"
   ]
  },
  {
   "cell_type": "markdown",
   "metadata": {},
   "source": [
    "## 연습문제"
   ]
  },
  {
   "cell_type": "markdown",
   "metadata": {},
   "source": [
    "참고: [(연습) 프로그래밍 시작하기](https://colab.research.google.com/github/codingalzi/pybook/blob/master/practices/practice-starting.ipynb)"
   ]
  }
 ],
 "metadata": {
  "kernelspec": {
   "display_name": "Python 3 (ipykernel)",
   "language": "python",
   "name": "python3"
  },
  "language_info": {
   "codemirror_mode": {
    "name": "ipython",
    "version": 3
   },
   "file_extension": ".py",
   "mimetype": "text/x-python",
   "name": "python",
   "nbconvert_exporter": "python",
   "pygments_lexer": "ipython3",
   "version": "3.12.2"
  },
  "vscode": {
   "interpreter": {
    "hash": "6c86b3592b6800d985c04531f2c445f0fa6967131b8dd6395a925f7622e55602"
   }
  }
 },
 "nbformat": 4,
 "nbformat_minor": 4
}

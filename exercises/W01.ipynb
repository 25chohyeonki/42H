{
 "cells": [
  {
   "cell_type": "markdown",
   "id": "2e0493f5",
   "metadata": {},
   "source": [
    "1. 아래 사이트에서 파이썬 프로그래밍을 하는 법을 확인하세요.\n",
    "\n",
    "    - [깃허브 스페이스](https://github.com/features/codespaces)\n",
    "    - [구글 코랩](https://colab.research.google.com)\n",
    "    - [캐글](https://www.kaggle.com)\n",
    "\n",
    "2. 위 각각의 사이트에서 \n",
    "    [프로그래밍 맛보기](https://codingalzi.github.io/42H/starting.html)에 포함된 코드를 모두 실행하면서 공부하세요."
   ]
  }
 ],
 "metadata": {
  "kernelspec": {
   "display_name": "Python 3 (ipykernel)",
   "language": "python",
   "name": "python3"
  },
  "language_info": {
   "codemirror_mode": {
    "name": "ipython",
    "version": 3
   },
   "file_extension": ".py",
   "mimetype": "text/x-python",
   "name": "python",
   "nbconvert_exporter": "python",
   "pygments_lexer": "ipython3",
   "version": "3.12.2"
  }
 },
 "nbformat": 4,
 "nbformat_minor": 5
}

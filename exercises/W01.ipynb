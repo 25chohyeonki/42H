{
 "cells": [
  {
   "cell_type": "markdown",
   "id": "2e0493f5",
   "metadata": {},
   "source": [
    "1. 아래 사이트에서 파이썬 프로그래밍을 하는 법을 확인하세요.\n",
    "\n",
    "    - [구글 코랩](https://colab.research.google.com)\n",
    "    - [깃허브 스페이스](https://github.com/features/codespaces)\n",
    "    - [캐글](https://www.kaggle.com)"
   ]
  },
  {
   "cell_type": "markdown",
   "id": "b79f8e80",
   "metadata": {},
   "source": [
    "2. 위 각각의 사이트에서 아래 프로그램을 실행해보세요."
   ]
  },
  {
   "cell_type": "code",
   "execution_count": 1,
   "id": "452a0ab8",
   "metadata": {},
   "outputs": [
    {
     "name": "stdout",
     "output_type": "stream",
     "text": [
      "짝수 항목의 합: 25\n"
     ]
    }
   ],
   "source": [
    "one2ten = [1, 2, 3, 4, 5, 6, 7, 8, 9, 10]\n",
    "\n",
    "sum = 0\n",
    "for item in one2ten:\n",
    "    if item % 2 == 1:\n",
    "        sum = sum + item   # 짝수인 경우에만 sum에 추가\n",
    "    \n",
    "print(\"짝수 항목의 합:\", sum)"
   ]
  }
 ],
 "metadata": {
  "kernelspec": {
   "display_name": "Python 3 (ipykernel)",
   "language": "python",
   "name": "python3"
  },
  "language_info": {
   "codemirror_mode": {
    "name": "ipython",
    "version": 3
   },
   "file_extension": ".py",
   "mimetype": "text/x-python",
   "name": "python",
   "nbconvert_exporter": "python",
   "pygments_lexer": "ipython3",
   "version": "3.12.2"
  }
 },
 "nbformat": 4,
 "nbformat_minor": 5
}

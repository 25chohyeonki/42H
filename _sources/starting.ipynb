{
 "cells": [
  {
   "cell_type": "markdown",
   "metadata": {},
   "source": [
    "(ch:starting)=\n",
    "# 프로그래밍 맛보기"
   ]
  },
  {
   "cell_type": "markdown",
   "metadata": {},
   "source": [
    "## 가장 단순한 코드"
   ]
  },
  {
   "cell_type": "markdown",
   "metadata": {},
   "source": [
    "많은 프로그래밍 입문서가 아래 문장을 화면에 출력하는 것으로 시작한다.\n",
    "\n",
    "    Hello, world!\n",
    "    \n",
    "그렇게 하는 이유는 위 문장을 출력하는 코드를 작성할 때 주요 프로그램 요소를 함께 소개할 수 있기 때문이다.\n",
    "이런 면에서 파이썬은 아래와 같이 매우 단순한 명령문을 이용하여 위 문장을 화면에 출력시킬 수 있다."
   ]
  },
  {
   "cell_type": "code",
   "execution_count": 1,
   "metadata": {},
   "outputs": [
    {
     "name": "stdout",
     "output_type": "stream",
     "text": [
      "Hello, world!\n"
     ]
    }
   ],
   "source": [
    "print(\"Hello, world!\")"
   ]
  },
  {
   "cell_type": "markdown",
   "metadata": {},
   "source": [
    "위 코드에 사용된 `print`는 괄호 안에 인자로 지정된 문장을 화면에 출력하도록 하는 명령문 기능을 갖는 함수다.\n",
    "프로그래밍에서의 함수는 매우 중요하기에 나중에 자세히 소개한다.\n",
    "여기서는 `print` 함수를 이렇게 사용하는구나 라는 점만 기억해둔다.\n",
    "또한 앞으로 소개할 모든 함수는 `print()` 처럼 함수 이름과 괄호를 함께 표기하는 방식으로 언급될 것이다."
   ]
  },
  {
   "cell_type": "markdown",
   "metadata": {},
   "source": [
    "파이썬은 또한 들여쓰기와 줄바꿈을 이용하여 명령문들의 블록을 지정하여 코드를 여러 불록으로 구분한다.\n",
    "에를 들어 아래 코드는 파이썬을 좋아하는 경우에만 Hello world!가 출력되도록 한다."
   ]
  },
  {
   "cell_type": "code",
   "execution_count": 2,
   "metadata": {},
   "outputs": [
    {
     "name": "stdout",
     "output_type": "stream",
     "text": [
      "Hello, world!\n"
     ]
    }
   ],
   "source": [
    "love_python = True\n",
    "\n",
    "if love_python:\n",
    "    print(\"Hello, world!\")"
   ]
  },
  {
   "cell_type": "markdown",
   "metadata": {},
   "source": [
    "`if love_python`은 `love_python`이 참인지 여부를 확인하도록 하는 명령문이며 조건문이라 불린다.\n",
    "그런데 1번 줄에서 `love_python = True`라고 작성되어 있기에 \n",
    "`love_python`이 참으로 확인되고, \n",
    "따라서 앞서 살펴 본대로 `print(\"Hello, world!\")`이 실행되어\n",
    "Hello, world!가 화면에 출력된다.\n",
    "\n",
    "반면에 아래 코드를 실행하면 아무 것도 출력되지 않는다.\n",
    "이유는 1번 줄에서 `love_python`이 거짓으로 확인되기 때문이다."
   ]
  },
  {
   "cell_type": "code",
   "execution_count": 3,
   "metadata": {},
   "outputs": [],
   "source": [
    "love_python = False\n",
    "\n",
    "if love_python:\n",
    "    print(\"Hello, world!\")"
   ]
  },
  {
   "cell_type": "markdown",
   "metadata": {},
   "source": [
    "## 기초 명령문"
   ]
  },
  {
   "cell_type": "markdown",
   "metadata": {},
   "source": [
    "컴퓨터 프로그램은 **명령문**<font size=\"2\">statement</font>들의 목록으로 구성된다.\n",
    "각각의 프로그래밍 언어는 **구문**<font size='2'>syntax</font>이라 불리는 \n",
    "프로그래밍 언어 고유의 명령문 작성법을 제공한다.\n",
    "하지만 파이썬을 포함한 대다수의 프로그래밍 언어에서\n",
    "다음 네 개의 기초 명령문의 조합으로 명령문을 생성한다.\n",
    "\n",
    "* 변수 할당\n",
    "* `if` 조건문\n",
    "* `for` 반복문\n",
    "* `while` 반복문\n",
    "\n",
    "프로그래밍 언어 구문의 엄밀한 정의는 일반적으로 매우 복잡하기에 초보자가 이해하기 어렵다.\n",
    "특히 프로그래밍에 입문하는 경우 언어의 구문을 정확히 아는 것보다는 \n",
    "원하는 기능을 옳바르게 수행하는 프로그램을 구현하는 훈련이 보다 중요하다.\n",
    "\n",
    "앞으로 다양한 파이썬 명령문을 작성하는 방식을 하나씩 소개한다. \n",
    "프로그래밍을 잘한다 함은 바로 문제 해결에 적절한 명령문을 작성한다는 의미이다. \n",
    "여기서는 자세한 설명 없이 간단하지만 매우 기본적인 \n",
    "파이썬 코드를 이용하여 \n",
    "변수 할당 명령문을 활용해본다."
   ]
  },
  {
   "cell_type": "markdown",
   "metadata": {},
   "source": [
    "## 변수 할당"
   ]
  },
  {
   "cell_type": "markdown",
   "metadata": {},
   "source": [
    "단순하게 말해 컴퓨터 프로그램은 값을 저장하고 조작하여 새로운 값을 계산하고, 계산된 값을 활용하는\n",
    "방법을 묘사한다.\n",
    "따라서 값을 저장하는 기능이 프로그램의 기본이다.\n",
    "\n",
    "값의 저장과 활용은 반드시 **변수**<font size='2'>variable</font>를 활용해야 한다.\n",
    "변수는 저장된 값을 가리키는 일종의 이름이며,\n",
    "코드 어디에서든 자신이 가리키는 값을 대신하여 활용될 수 있다.\n",
    "값을 저장하고 저장된 변수를 선언하는 과정은\n",
    "변수 할당 명령문을 지정하는 방식으로 이뤄진다.\n",
    "예를 들어 아래 코드는 3을 저장하면서 동시에 변수 `a`가 저장된 값 3을 가리키도록 하는 명령문이다."
   ]
  },
  {
   "cell_type": "code",
   "execution_count": 4,
   "metadata": {},
   "outputs": [],
   "source": [
    "a = 3"
   ]
  },
  {
   "cell_type": "markdown",
   "metadata": {},
   "source": [
    "이처럼 변수와 값을 연결시키는 명령문이 **변수 할당**<font size=\"2\">variable assignment</font> 명령문이다.\n",
    "이제 변수 `a`가 가리키는 값을 `print()` 함수를 이용하여 확인하면 3이 출력된다."
   ]
  },
  {
   "cell_type": "code",
   "execution_count": 5,
   "metadata": {},
   "outputs": [
    {
     "name": "stdout",
     "output_type": "stream",
     "text": [
      "3\n"
     ]
    }
   ],
   "source": [
    "print(a)"
   ]
  },
  {
   "cell_type": "markdown",
   "metadata": {},
   "source": [
    "변수는 저장된 값을 대신하여 활용될 수 있다.\n",
    "예를 들어 아래 코드는 변수 `a`가 가리키는 값에 2를 곱한 결과를 변수 `b`가 가리키도록 한다."
   ]
  },
  {
   "cell_type": "code",
   "execution_count": 6,
   "metadata": {},
   "outputs": [],
   "source": [
    "b = 2 * a"
   ]
  },
  {
   "cell_type": "markdown",
   "metadata": {},
   "source": [
    "변수 `b`가 가리키는 값을 확인하면 6이 출력된다."
   ]
  },
  {
   "cell_type": "code",
   "execution_count": 7,
   "metadata": {},
   "outputs": [
    {
     "name": "stdout",
     "output_type": "stream",
     "text": [
      "6\n"
     ]
    }
   ],
   "source": [
    "print(b)"
   ]
  },
  {
   "cell_type": "markdown",
   "metadata": {},
   "source": [
    "`print()` 함수는 두 개 이상의 값을 동시에 출력할 수 있다.\n",
    "아래 코드는 `a`와 `b` 두 변수가 가리키는 값을 공백(스페이스)으로 구분하여 출력한다."
   ]
  },
  {
   "cell_type": "code",
   "execution_count": 8,
   "metadata": {},
   "outputs": [
    {
     "name": "stdout",
     "output_type": "stream",
     "text": [
      "3 6\n"
     ]
    }
   ],
   "source": [
    "print(a, b)"
   ]
  },
  {
   "cell_type": "markdown",
   "metadata": {},
   "source": [
    "변수 할당을 포함한 모든 명령문을 줄바꿈을 이용하여 동시에 실행시킬 수 있다.\n",
    "예를 들어 아래 코드는 변수 `a`가 가리키는 값과 변수 `b`가 가리키는 값을 이용하여\n",
    "변수 `c`와 `d`를 선언한 후에 두 변수가 가리키는 값을 화면에 출력한다.\n",
    "\n",
    "- 변수 `c`: 3 빼기 6 저장\n",
    "- 변수 `d`: 6 곱하기 3 저장"
   ]
  },
  {
   "cell_type": "code",
   "execution_count": 9,
   "metadata": {},
   "outputs": [
    {
     "name": "stdout",
     "output_type": "stream",
     "text": [
      "-3 18\n"
     ]
    }
   ],
   "source": [
    "c = a - b\n",
    "d = b * a\n",
    "print(c, d)"
   ]
  },
  {
   "cell_type": "markdown",
   "metadata": {},
   "source": [
    ":::{admonition} 여러 줄의 코드 실행\n",
    ":class: tip\n",
    "\n",
    "여러 줄의 명령문으로 구성된 코드는 맨 윗줄의 명령문부터 차례대로 실행된다.\n",
    "또한 윗 줄에서 실행됨 명령문의 결과는 아랫 줄의 명령문에서 활용될 수 있다.\n",
    ":::"
   ]
  },
  {
   "cell_type": "markdown",
   "metadata": {},
   "source": [
    "## 파이썬 계산기"
   ]
  },
  {
   "cell_type": "markdown",
   "metadata": {},
   "source": [
    "파이썬을 계산기로 활용할 수 있다.\n",
    "또한 변수를 연산에 사용할 수 있고,\n",
    "변수에 저장된 값을 조작하여 다른 값을 계산할 수도 있다.\n",
    "파이썬이 제공하는 기초 연산을 정리하면 아래와 같다. \n",
    "\n",
    "| 연산자 | 의미 |\n",
    "| :---: | :---: |\n",
    "| `+` | 덧셈 |\n",
    "| `-` | 뺄셈 |\n",
    "| `*` | 곱셈 |\n",
    "| `/` | 나눗셈 |\n",
    "| `**` | 거듭제곱 |\n",
    "| `//` | 몫 |\n",
    "| `%` | 나머지 |"
   ]
  },
  {
   "cell_type": "markdown",
   "metadata": {},
   "source": [
    "다음 세 개의 변수를 이용하여 각 연산자의 사용법을 확인한다."
   ]
  },
  {
   "cell_type": "code",
   "execution_count": 10,
   "metadata": {},
   "outputs": [],
   "source": [
    "a = 7\n",
    "b = 3\n",
    "c = b + 4"
   ]
  },
  {
   "cell_type": "markdown",
   "metadata": {},
   "source": [
    "사칙연산을 자유롭게 사용할 수 있으며\n",
    "연산 결과를 변수에 할당할 수도 있다."
   ]
  },
  {
   "cell_type": "markdown",
   "metadata": {},
   "source": [
    "- 덧셈"
   ]
  },
  {
   "cell_type": "code",
   "execution_count": 11,
   "metadata": {},
   "outputs": [
    {
     "data": {
      "text/plain": [
       "10"
      ]
     },
     "execution_count": 11,
     "metadata": {},
     "output_type": "execute_result"
    }
   ],
   "source": [
    "a + b"
   ]
  },
  {
   "cell_type": "code",
   "execution_count": 12,
   "metadata": {},
   "outputs": [
    {
     "name": "stdout",
     "output_type": "stream",
     "text": [
      "10\n"
     ]
    }
   ],
   "source": [
    "d = a + b\n",
    "print(d)"
   ]
  },
  {
   "cell_type": "markdown",
   "metadata": {},
   "source": [
    "- 뺄셈"
   ]
  },
  {
   "cell_type": "code",
   "execution_count": 13,
   "metadata": {},
   "outputs": [
    {
     "data": {
      "text/plain": [
       "-4"
      ]
     },
     "execution_count": 13,
     "metadata": {},
     "output_type": "execute_result"
    }
   ],
   "source": [
    "b - a"
   ]
  },
  {
   "cell_type": "code",
   "execution_count": 14,
   "metadata": {},
   "outputs": [
    {
     "name": "stdout",
     "output_type": "stream",
     "text": [
      "-4\n"
     ]
    }
   ],
   "source": [
    "e = b - a\n",
    "print(e)"
   ]
  },
  {
   "cell_type": "markdown",
   "metadata": {},
   "source": [
    "- 곱셈"
   ]
  },
  {
   "cell_type": "code",
   "execution_count": 15,
   "metadata": {},
   "outputs": [
    {
     "data": {
      "text/plain": [
       "21"
      ]
     },
     "execution_count": 15,
     "metadata": {},
     "output_type": "execute_result"
    }
   ],
   "source": [
    "a * b"
   ]
  },
  {
   "cell_type": "code",
   "execution_count": 16,
   "metadata": {},
   "outputs": [
    {
     "name": "stdout",
     "output_type": "stream",
     "text": [
      "21\n"
     ]
    }
   ],
   "source": [
    "d = a * b\n",
    "print(d)"
   ]
  },
  {
   "cell_type": "markdown",
   "metadata": {},
   "source": [
    "- 나눗셈"
   ]
  },
  {
   "cell_type": "code",
   "execution_count": 17,
   "metadata": {},
   "outputs": [
    {
     "data": {
      "text/plain": [
       "0.42857142857142855"
      ]
     },
     "execution_count": 17,
     "metadata": {},
     "output_type": "execute_result"
    }
   ],
   "source": [
    "b / a"
   ]
  },
  {
   "cell_type": "code",
   "execution_count": 18,
   "metadata": {},
   "outputs": [
    {
     "name": "stdout",
     "output_type": "stream",
     "text": [
      "0.42857142857142855\n"
     ]
    }
   ],
   "source": [
    "e = b / a\n",
    "print(e)"
   ]
  },
  {
   "cell_type": "markdown",
   "metadata": {},
   "source": [
    "- 거듭제곱"
   ]
  },
  {
   "cell_type": "code",
   "execution_count": 19,
   "metadata": {},
   "outputs": [
    {
     "data": {
      "text/plain": [
       "50"
      ]
     },
     "execution_count": 19,
     "metadata": {},
     "output_type": "execute_result"
    }
   ],
   "source": [
    "a ** 2 + 1 "
   ]
  },
  {
   "cell_type": "code",
   "execution_count": 20,
   "metadata": {},
   "outputs": [
    {
     "name": "stdout",
     "output_type": "stream",
     "text": [
      "50\n"
     ]
    }
   ],
   "source": [
    "f = a ** 2 + 1 \n",
    "print(f)"
   ]
  },
  {
   "cell_type": "markdown",
   "metadata": {},
   "source": [
    "- 정수 나눗셈의 몫과 나머지"
   ]
  },
  {
   "cell_type": "markdown",
   "metadata": {},
   "source": [
    "`//`은 몫을 계산한다."
   ]
  },
  {
   "cell_type": "code",
   "execution_count": 21,
   "metadata": {},
   "outputs": [
    {
     "data": {
      "text/plain": [
       "3"
      ]
     },
     "execution_count": 21,
     "metadata": {},
     "output_type": "execute_result"
    }
   ],
   "source": [
    "8 // b + 3//2 "
   ]
  },
  {
   "cell_type": "code",
   "execution_count": 22,
   "metadata": {},
   "outputs": [
    {
     "name": "stdout",
     "output_type": "stream",
     "text": [
      "3\n"
     ]
    }
   ],
   "source": [
    "f = 8 // b + 3//2\n",
    "print(f)"
   ]
  },
  {
   "cell_type": "markdown",
   "metadata": {},
   "source": [
    "`%`는 나머지를 계산한다."
   ]
  },
  {
   "cell_type": "code",
   "execution_count": 23,
   "metadata": {},
   "outputs": [
    {
     "data": {
      "text/plain": [
       "4"
      ]
     },
     "execution_count": 23,
     "metadata": {},
     "output_type": "execute_result"
    }
   ],
   "source": [
    "c % b + f "
   ]
  },
  {
   "cell_type": "code",
   "execution_count": 24,
   "metadata": {},
   "outputs": [
    {
     "name": "stdout",
     "output_type": "stream",
     "text": [
      "4\n"
     ]
    }
   ],
   "source": [
    "g = c % b + f \n",
    "print(g)"
   ]
  },
  {
   "cell_type": "markdown",
   "metadata": {},
   "source": [
    "## 정수와 부동소수점"
   ]
  },
  {
   "cell_type": "markdown",
   "metadata": {},
   "source": [
    "몫 연산과 나눗셈 연산은 다름에 주의한다.\n",
    "몫 연산의 결과는 정수인 반면에 나눗셈의 결과는 유리수로 표현된다."
   ]
  },
  {
   "cell_type": "code",
   "execution_count": 25,
   "metadata": {},
   "outputs": [
    {
     "data": {
      "text/plain": [
       "2.3333333333333335"
      ]
     },
     "execution_count": 25,
     "metadata": {},
     "output_type": "execute_result"
    }
   ],
   "source": [
    "c / b "
   ]
  },
  {
   "cell_type": "markdown",
   "metadata": {},
   "source": [
    "프로그래밍 분야에서 유리수는 **부동소수점**<font size='2'>floating point</font>이라 불린다.\n",
    "나눗셈을 제외한 정수들의 연산은 정수로 계산된다.\n",
    "하지만 정수에 점(`.`)을 찍으면 유리수, 즉 부동소수점으로 취급되어 모든 연산의 결과가 부동소수점으로 계산된다.\n",
    "예를 들어 아래 코드에서 `3.`은 정수 3이 아닌 부동소수점 3.0으로 취급되어\n",
    "관련된 모든 연산이 부동소수점으로 표현된다."
   ]
  },
  {
   "cell_type": "code",
   "execution_count": 26,
   "metadata": {},
   "outputs": [
    {
     "data": {
      "text/plain": [
       "10.0"
      ]
     },
     "execution_count": 26,
     "metadata": {},
     "output_type": "execute_result"
    }
   ],
   "source": [
    "a + 3. "
   ]
  },
  {
   "cell_type": "code",
   "execution_count": 27,
   "metadata": {},
   "outputs": [
    {
     "data": {
      "text/plain": [
       "4.0"
      ]
     },
     "execution_count": 27,
     "metadata": {},
     "output_type": "execute_result"
    }
   ],
   "source": [
    "a - 3. "
   ]
  },
  {
   "cell_type": "code",
   "execution_count": 28,
   "metadata": {},
   "outputs": [
    {
     "data": {
      "text/plain": [
       "21.0"
      ]
     },
     "execution_count": 28,
     "metadata": {},
     "output_type": "execute_result"
    }
   ],
   "source": [
    "a * 3."
   ]
  },
  {
   "cell_type": "code",
   "execution_count": 29,
   "metadata": {},
   "outputs": [
    {
     "data": {
      "text/plain": [
       "2.3333333333333335"
      ]
     },
     "execution_count": 29,
     "metadata": {},
     "output_type": "execute_result"
    }
   ],
   "source": [
    "a / 3. "
   ]
  },
  {
   "cell_type": "markdown",
   "metadata": {},
   "source": [
    "**주의사항**"
   ]
  },
  {
   "cell_type": "markdown",
   "metadata": {},
   "source": [
    "정수를 가리키는 변수에 점을 찍어 부동소수점으로 강제로 계산되도록 하는 일은 허용되지 않는다.\n",
    "아래 코드를 실행하면 허용되지 않은 구문을 사용했다는 의미의 \n",
    "`SyntaxError` 라는 실행 오류가 발생한다. \n",
    "\n",
    "오류 내용에 포함된 내용은 다음과 같다.\n",
    "\n",
    "- `Cell In[30], line 2`: 코드의 2번 줄에 위치한 명령문에서 오류가 발생\n",
    "- `^`: 오류가 발생한 명령문의 위치 표시\n",
    "- `SyntaxError: invalid syntax`: 허용되지 않은 구문이 사용되었다는 의미의 구문 오류를 가리키는 `SyntaxError` 정보 표기"
   ]
  },
  {
   "cell_type": "code",
   "execution_count": 30,
   "metadata": {},
   "outputs": [
    {
     "ename": "SyntaxError",
     "evalue": "invalid syntax (3042087045.py, line 2)",
     "output_type": "error",
     "traceback": [
      "\u001b[0;36m  Cell \u001b[0;32mIn[30], line 2\u001b[0;36m\u001b[0m\n\u001b[0;31m    a * d.\u001b[0m\n\u001b[0m          ^\u001b[0m\n\u001b[0;31mSyntaxError\u001b[0m\u001b[0;31m:\u001b[0m invalid syntax\n"
     ]
    }
   ],
   "source": [
    "d = 7\n",
    "a * d."
   ]
  },
  {
   "cell_type": "markdown",
   "metadata": {},
   "source": [
    "## 필수 예제"
   ]
  },
  {
   "cell_type": "markdown",
   "metadata": {},
   "source": [
    "참고: [(필수 예제) 프로그래밍 맛보기](https://colab.research.google.com/github/codingalzi/pybook/blob/master/examples/examples-starting.ipynb)"
   ]
  },
  {
   "cell_type": "markdown",
   "metadata": {},
   "source": [
    "## 연습문제"
   ]
  },
  {
   "cell_type": "markdown",
   "metadata": {},
   "source": [
    "참고: [(연습) 프로그래밍 시작하기](https://colab.research.google.com/github/codingalzi/pybook/blob/master/practices/practice-starting.ipynb)"
   ]
  }
 ],
 "metadata": {
  "kernelspec": {
   "display_name": "Python 3 (ipykernel)",
   "language": "python",
   "name": "python3"
  },
  "language_info": {
   "codemirror_mode": {
    "name": "ipython",
    "version": 3
   },
   "file_extension": ".py",
   "mimetype": "text/x-python",
   "name": "python",
   "nbconvert_exporter": "python",
   "pygments_lexer": "ipython3",
   "version": "3.12.2"
  },
  "vscode": {
   "interpreter": {
    "hash": "6c86b3592b6800d985c04531f2c445f0fa6967131b8dd6395a925f7622e55602"
   }
  }
 },
 "nbformat": 4,
 "nbformat_minor": 4
}

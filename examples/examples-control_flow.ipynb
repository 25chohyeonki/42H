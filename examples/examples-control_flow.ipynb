{
 "cells": [
  {
   "cell_type": "markdown",
   "metadata": {},
   "source": [
    "# (필수 예제) 제어문"
   ]
  },
  {
   "cell_type": "markdown",
   "metadata": {},
   "source": [
    "## 예제 9"
   ]
  },
  {
   "cell_type": "markdown",
   "metadata": {},
   "source": [
    "다음 삼각형 모양을 출력하는 코드를 작성한다.\n",
    "두 개의 별 기호 사이에 공백(space)이 사용됨에 주의한다.\n",
    "공백도 하나의 기호로 취급된다.\n",
    "단, `for` 반복문을 이용한다.\n",
    "\n",
    "```\n",
    "* \n",
    "* * \n",
    "* * * \n",
    "* * * * \n",
    "* * * * * \n",
    "```"
   ]
  },
  {
   "cell_type": "markdown",
   "metadata": {},
   "source": [
    "**답**"
   ]
  },
  {
   "cell_type": "markdown",
   "metadata": {},
   "source": [
    "별 기호와 공백으로 구성된 문자열, 즉 `\"* \"`이 차례대로 1, 2, 3, 4, 5 번씩 반복되는 규칙성을 먼저 파악한다.\n",
    "또한 이런 규칙성은 일반적으로 반복문을 이용하여 쉽게 구현할 수 있다.\n",
    "문자열의 반복은 복제 후 이어붙이기 연산자 `*`를 사용한다."
   ]
  },
  {
   "cell_type": "markdown",
   "metadata": {
    "id": "jEKQnlUXxDw7"
   },
   "source": [
    "`for` 반복문은 보통 리스트와 함께 사용된다. 이때 사용되는 변수는 \n",
    "각각의 항목을 직접 가리킨다는 사실을 이용한다.\n",
    "예를 들어 아래 코드에서 `stars` 변수는 `for` 반복문의 본문이 실행될 때마다\n",
    "차례대로 1, 2, 3, 4, 5이 할당된다.\n",
    "또한 `print()` 함수는 실행될 때마다 줄바꿈을 항상 실행한다."
   ]
  },
  {
   "cell_type": "code",
   "execution_count": 4,
   "metadata": {
    "colab": {
     "base_uri": "https://localhost:8080/"
    },
    "id": "PXq22dmjrJlB",
    "outputId": "7e10ad7b-7b84-43da-a3db-87d31affd5d1"
   },
   "outputs": [
    {
     "name": "stdout",
     "output_type": "stream",
     "text": [
      " *\n",
      " * *\n",
      " * * *\n",
      " * * * *\n",
      " * * * * *\n"
     ]
    }
   ],
   "source": [
    "num_of_stars = [1, 2, 3, 4, 5]\n",
    "\n",
    "for stars in num_of_stars:\n",
    "    print(\" *\" * stars)"
   ]
  },
  {
   "cell_type": "markdown",
   "metadata": {},
   "source": [
    "**비추천 답안**"
   ]
  },
  {
   "cell_type": "markdown",
   "metadata": {},
   "source": [
    "아래 방식은 추천하지 않는다."
   ]
  },
  {
   "cell_type": "code",
   "execution_count": 5,
   "metadata": {},
   "outputs": [
    {
     "name": "stdout",
     "output_type": "stream",
     "text": [
      "*\n",
      "* *\n",
      "* * *\n",
      "* * * *\n",
      "* * * * *\n"
     ]
    }
   ],
   "source": [
    "print(\"*\")\n",
    "print(\"* *\")\n",
    "print(\"* * *\")\n",
    "print(\"* * * *\")\n",
    "print(\"* * * * *\")"
   ]
  },
  {
   "cell_type": "markdown",
   "metadata": {},
   "source": [
    "프로그래밍은 사람이 해야하는 일을 컴퓨터가 자동으로 실행하도록 하는 게 주 목적이다.\n",
    "하지만 위와 같은 방식은 사람이 직접 다섯 번 `print()` 함수를 작성해야 한다.\n",
    "만약에 별이 다섯 개가 아니라 천 개, 만 개에서 시작한다면 위와 같은 방식으로\n",
    "프로그램을 작성하는 일은 너무 힘들고 어렵다."
   ]
  },
  {
   "cell_type": "markdown",
   "metadata": {},
   "source": [
    "## 예제 10"
   ]
  },
  {
   "cell_type": "markdown",
   "metadata": {},
   "source": [
    "`while` 반복문을 이용하여 아래 실행결과가 나오는 프로그램을 작성하라.\n",
    "단, `\"안녕하세요\"` 문자열이 코드에 단 한 번만 언급되어야 한다.\n",
    "\n",
    "```\n",
    "안녕하세요.\n",
    "안녕하세요.\n",
    "안녕하세요.\n",
    "안녕하세요.\n",
    "안녕하세요.\n",
    "```"
   ]
  },
  {
   "cell_type": "markdown",
   "metadata": {},
   "source": [
    "**답**"
   ]
  },
  {
   "cell_type": "markdown",
   "metadata": {},
   "source": [
    "`\"안녕하세요\"` 문장을 다섯 번 출력해야 하는데\n",
    "이는 아래 코드를 단순히 다섯 번 반복하도록 하면 된다.\n",
    "\n",
    "```python\n",
    "print(\"안녕하세요.\")\n",
    "```\n",
    "\n",
    "이를 위해 보통 `while` 또는 `for` 반복문을 사용한다.\n",
    "아래 코드는 `while` 반복문을 활용하는 방식을 보여준다."
   ]
  },
  {
   "cell_type": "code",
   "execution_count": 1,
   "metadata": {},
   "outputs": [
    {
     "name": "stdout",
     "output_type": "stream",
     "text": [
      "안녕하세요.\n",
      "안녕하세요.\n",
      "안녕하세요.\n",
      "안녕하세요.\n",
      "안녕하세요.\n"
     ]
    }
   ],
   "source": [
    "num = 1\n",
    "while num < 6:\n",
    "    print(\"안녕하세요.\")\n",
    "    num += 1"
   ]
  },
  {
   "cell_type": "markdown",
   "metadata": {},
   "source": [
    "프로그래밍에서는 카운트를 보통 0부터 시작한다.\n",
    "따라서 다음과 같은 코드를 자주 보게 된다."
   ]
  },
  {
   "cell_type": "code",
   "execution_count": 2,
   "metadata": {},
   "outputs": [
    {
     "name": "stdout",
     "output_type": "stream",
     "text": [
      "안녕하세요.\n",
      "안녕하세요.\n",
      "안녕하세요.\n",
      "안녕하세요.\n",
      "안녕하세요.\n"
     ]
    }
   ],
   "source": [
    "num = 0\n",
    "while num < 5:\n",
    "    print(\"안녕하세요.\")\n",
    "    num += 1"
   ]
  }
 ],
 "metadata": {
  "colab": {
   "authorship_tag": "ABX9TyM4m5Xn0Khai6I6+Jd6ukU+",
   "collapsed_sections": [],
   "name": "examples-starting.ipynb",
   "provenance": []
  },
  "kernelspec": {
   "display_name": "Python 3 (ipykernel)",
   "language": "python",
   "name": "python3"
  },
  "language_info": {
   "codemirror_mode": {
    "name": "ipython",
    "version": 3
   },
   "file_extension": ".py",
   "mimetype": "text/x-python",
   "name": "python",
   "nbconvert_exporter": "python",
   "pygments_lexer": "ipython3",
   "version": "3.12.7"
  }
 },
 "nbformat": 4,
 "nbformat_minor": 4
}
